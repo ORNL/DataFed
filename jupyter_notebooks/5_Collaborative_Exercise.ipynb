{
 "cells": [
  {
   "cell_type": "markdown",
   "metadata": {},
   "source": [
    "# Collaborative Exercise: <span style=\"color:teal\"> DataFed Zoo </span>"
   ]
  },
  {
   "cell_type": "markdown",
   "metadata": {},
   "source": [
    "In this exercise, you are encouraged to refer back to the examples and exercises in previous notebooks, feel free to re-use as much code as you'd like. "
   ]
  },
  {
   "cell_type": "code",
   "execution_count": null,
   "metadata": {},
   "outputs": [],
   "source": [
    "from datafed.CommandLib import API\n",
    "\n",
    "df_api = API()\n",
    "df_api.setContext(\"p/trn001\")"
   ]
  },
  {
   "cell_type": "markdown",
   "metadata": {},
   "source": [
    "### Animal Generator: Create 5 records\n",
    "Similar to the cat/dog creator, define a function that creates a record with the title \"animal\" + \"_\" + \"random numeric suffix\". \n",
    "\n",
    "The key difference is that your record metadata **must** contain a standardized field called \"height\".\n",
    "\n",
    "Here is sample code for generating random animal heights to 2 decimal places: \n",
    "\n",
    "    import random \n",
    "    metadata = {\"height\": round(random.uniform(min_height, max_height), 2)\n",
    "\n",
    "These records should be created in the 'projshare' collection, to which everyone has access.\n",
    "\n",
    "Use your function to create 5 new records for the animal of your choice."
   ]
  },
  {
   "cell_type": "code",
   "execution_count": null,
   "metadata": {},
   "outputs": [],
   "source": [
    "def animal_generator(...):\n",
    "    "
   ]
  },
  {
   "cell_type": "markdown",
   "metadata": {},
   "source": [
    "### Search for New Animals: Create a Query\n",
    "Take a quick look at the 'projshare' collection (either using the API) or the web interface, and pick another animal someone else has made records for, *or* another user whose data you'd like to use. \n",
    "\n",
    "Use the web interface to create a query that searches the data for the records made for that animal, or for that user's records.\n",
    "\n",
    "Run your query below:"
   ]
  },
  {
   "cell_type": "code",
   "execution_count": null,
   "metadata": {},
   "outputs": [],
   "source": [
    "query_results = df_api.queryExec(...)"
   ]
  },
  {
   "cell_type": "markdown",
   "metadata": {},
   "source": [
    "### Isolate New Animals: Find the Record IDs\n",
    "Iterate over the query_results protobuf message to create a list of IDs for the records that matched your search criteria."
   ]
  },
  {
   "cell_type": "code",
   "execution_count": null,
   "metadata": {},
   "outputs": [],
   "source": [
    "rec_ids = list(...)"
   ]
  },
  {
   "cell_type": "markdown",
   "metadata": {},
   "source": [
    "### Gather Height Data: Extract Metadata from the Records\n",
    "Use the dataView() command to get and extract the height metadata for each of the records in your list. "
   ]
  },
  {
   "cell_type": "code",
   "execution_count": null,
   "metadata": {},
   "outputs": [],
   "source": [
    "heights = list()\n",
    "for rec_id in rec_ids:\n",
    "    ..."
   ]
  },
  {
   "cell_type": "markdown",
   "metadata": {},
   "source": [
    "### Make New Data: Find the Average Height & Then Track Provenance: Add references to input Data Records\n",
    "Find the average animal height, and create a new record for the with this value in its metadata, i.e. `metadata={\"average_height\": x}`. ",
    "Using the `deps_add` keyword argument, update your average record so that it shows which records its data was derived from.\n",
    "\n",
    "The deps_add argument is an array of lists or tuples whose elements are: [0] the type of relationship, and [1] the id or alias of the record to whom the relationship will be connected. \n",
    "For example:\n",
    "\n",
    "    deps_add = [('der', record_id_1), ('comp', record_id_2), ...]"
   ]
  },
  {
   "cell_type": "code",
   "execution_count": null,
   "metadata": {},
   "outputs": [],
   "source": [
    "average_height = ?\n",
    "\n",
    "avg_rec = df_api.dataCreate(...)df_api.dataUpdate(avg_rec, ...)"
   ]
  }
 ],
 "metadata": {
  "kernelspec": {
   "display_name": "Python [default]",
   "language": "python",
   "name": "python3"
  },
  "language_info": {
   "codemirror_mode": {
    "name": "ipython",
    "version": 3
   },
   "file_extension": ".py",
   "mimetype": "text/x-python",
   "name": "python",
   "nbconvert_exporter": "python",
   "pygments_lexer": "ipython3",
   "version": "3.5.5"
  }
 },
 "nbformat": 4,
 "nbformat_minor": 5
}

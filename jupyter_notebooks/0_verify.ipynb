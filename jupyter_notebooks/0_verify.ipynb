{
 "cells": [
  {
   "cell_type": "markdown",
   "metadata": {},
   "source": [
    "# DataFed Checklist"
   ]
  },
  {
   "cell_type": "code",
   "execution_count": null,
   "metadata": {},
   "outputs": [],
   "source": [
    "import os\n",
    "import subprocess\n",
    "from platform import platform\n",
    "import sys\n",
    "import ctypes\n",
    "\n",
    "try:\n",
    "    # This package is not part of anaconda and may need to be\n",
    "    # installed.\n",
    "    from datafed.CommandLib import API\n",
    "except ImportError:\n",
    "    print(\"datafed not found. Installing from pip.\")\n",
    "    subprocess.call([sys.executable, \"-m\", \"pip\", \"install\", \"datafed\"])\n",
    "    from datafed.CommandLib import API\n",
    "\n",
    "from datafed import version as df_ver"
   ]
  },
  {
   "cell_type": "markdown",
   "metadata": {},
   "source": [
    "## 0. Machine information:"
   ]
  },
  {
   "cell_type": "markdown",
   "metadata": {},
   "source": [
    "Python version:"
   ]
  },
  {
   "cell_type": "code",
   "execution_count": null,
   "metadata": {},
   "outputs": [],
   "source": [
    "sys.version_info"
   ]
  },
  {
   "cell_type": "code",
   "execution_count": null,
   "metadata": {},
   "outputs": [],
   "source": [
    "platform()"
   ]
  },
  {
   "cell_type": "markdown",
   "metadata": {},
   "source": [
    "## 1. Verify DataFed installation:"
   ]
  },
  {
   "cell_type": "code",
   "execution_count": null,
   "metadata": {},
   "outputs": [],
   "source": [
    "if not df_ver.startswith(\"1.1\"):\n",
    "    print(\"Attempting to update DataFed.\")\n",
    "    subprocess.call([sys.executable, \"-m\", \"pip\", \"install\", \"--upgrade\", \"datafed\"])\n",
    "    print(\n",
    "        \"Please restart the python kernel or upgrade manually to V \"\n",
    "        \" 1.1.0:1 if you are repeatedly seeing this message via\"\n",
    "        \"\\n\\tpip install --upgrade datafed\"\n",
    "    )\n",
    "else:\n",
    "    df_api = API()\n",
    "    print(\"Success! You have DataFed: \" + df_ver)"
   ]
  },
  {
   "cell_type": "markdown",
   "metadata": {},
   "source": [
    "## 2. Verify user authentication: "
   ]
  },
  {
   "cell_type": "code",
   "execution_count": null,
   "metadata": {},
   "outputs": [],
   "source": [
    "if df_api.getAuthUser():\n",
    "    print(\n",
    "        \"Success! You have been authenticated into DataFed as: \"\n",
    "        df_api.getAuthUser()\n",
    "    )\n",
    "else:\n",
    "    print(\"You have not authenticated into DataFed Client\")\n",
    "    print(\n",
    "        'Please follow instructions in the \"Basic Configuration\" '\n",
    "        'section in the link below to authenticate yourself:'\n",
    "    )\n",
    "    print(\"https://ornl.github.io/DataFed/user/client/\"\n",
    "          \"install.html#basic-configuration\")"
   ]
  },
  {
   "cell_type": "markdown",
   "metadata": {},
   "source": [
    "## 3. Ensure Globus Endpoint is set:"
   ]
  },
  {
   "cell_type": "code",
   "execution_count": null,
   "metadata": {},
   "outputs": [],
   "source": [
    "if not df_api.endpointDefaultGet():\n",
    "    print(\"Please follow instructions in the link below to find \" \"your Globus Endpoint:\")\n",
    "    print(\n",
    "        \"https://ornl.github.io/DataFed/system/getting_started.\"\n",
    "        \"html#install-identify-globus-endpoint\"\n",
    "    )\n",
    "    endpoint = input(\n",
    "        \"\\nPlease enter either the Endpoint UUID or Legacy Name \" \"for your Globus Endpoint: \"\n",
    "    )\n",
    "    df_api.endpointDefaultSet(endpoint)\n",
    "\n",
    "print(\"Your default Globus Endpoint in DataFed is:\\n\" f\"{df_api.endpointDefaultGet()}\")"
   ]
  },
  {
   "cell_type": "markdown",
   "metadata": {},
   "source": [
    "## 4. Test Globus Endpoint:\n",
    "And in the case of Windows - write access to the folder:"
   ]
  },
  {
   "cell_type": "code",
   "execution_count": null,
   "metadata": {},
   "outputs": [],
   "source": [
    "dget_resp = df_api.dataGet(\"d/35437908\", os.path.abspath(\".\"), wait=True)\n",
    "dget_resp"
   ]
  },
  {
   "cell_type": "code",
   "execution_count": null,
   "metadata": {},
   "outputs": [],
   "source": [
    "if dget_resp[0].task[0].status == 3:\n",
    "    print(\"Success! Downloaded a test file to your location.\" \"Removing the file now\")\n",
    "    os.remove(\"35437908.md5sum\")\n",
    "else:\n",
    "    if dget_resp[0].task[0].msg == \"globus connect offline\":\n",
    "        print(\n",
    "            \"You need to activate your Globus Endpoint and/or ensure \"\n",
    "            \"Globus Connect Personal is running.\\n\"\n",
    "            \"Please visit https://globus.org to activate your Endpoint\"\n",
    "        )\n",
    "    elif dget_resp[0].task[0].msg == \"permission denied\":\n",
    "        print(\n",
    "            \"Globus does not have write access to this directory.\\n\"\n",
    "            \"If you are using Globus Connect Personal, ensure that\"\n",
    "            \"this notebook runs within one of the directories where \"\n",
    "            \"Globus has write access. You may consider moving this\"\n",
    "            \"notebook to a valid directory or add this directory to \"\n",
    "            \"the Globus Connect Personal settings\"\n",
    "        )\n",
    "    else:\n",
    "        NotImplementedError(\n",
    "            \"Get in touch with us or consider looking online to \"\n",
    "            \"find a solution to this problem:\\n\"\n",
    "            f\"{dget_resp[0].task[0].msg}\"\n",
    "        )"
   ]
  },
  {
   "cell_type": "markdown",
   "metadata": {},
   "source": [
    "### (Optional) for Windows - test for Admin priveleges\n",
    "Admin priveleges may be necessary to remove files or directories ",
    "using Python:"
   ]
  },
  {
   "cell_type": "code",
   "execution_count": null,
   "metadata": {},
   "outputs": [],
   "source": [
    "try:\n",
    "    is_admin = os.getuid() == 0\n",
    "except AttributeError:\n",
    "    is_admin = ctypes.windll.shell32.IsUserAnAdmin() != 0\n",
    "\n",
    "is_admin"
   ]
  },
  {
   "cell_type": "code",
   "execution_count": null,
   "metadata": {},
   "outputs": [],
   "source": []
  }
 ],
 "metadata": {
  "anaconda-cloud": {},
  "kernelspec": {
   "display_name": "Python 3",
   "language": "python",
   "name": "python3"
  },
  "language_info": {
   "codemirror_mode": {
    "name": "ipython",
    "version": 3
   },
   "file_extension": ".py",
   "mimetype": "text/x-python",
   "name": "python",
   "nbconvert_exporter": "python",
   "pygments_lexer": "ipython3",
   "version": "3.8.3"
  }
 },
 "nbformat": 4,
 "nbformat_minor": 2
}

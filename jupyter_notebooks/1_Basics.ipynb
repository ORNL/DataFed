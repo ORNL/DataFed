{
 "cells": [
  {
   "cell_type": "markdown",
   "metadata": {},
   "source": [
    "# Getting Started with DataFed\n",
    "In this notebook we will be going over basic concepts such as ``contexts``, ``projects``, understanding how DataFed responds to function calls, etc. \n",
    "\n",
    "To get started, we need to import only the ``API`` class from ``CommandLab`` in the datafed package. "
   ]
  },
  {
   "cell_type": "code",
   "execution_count": null,
   "metadata": {},
   "outputs": [],
   "source": [
    "from datafed.CommandLib import API"
   ]
  },
  {
   "cell_type": "markdown",
   "metadata": {},
   "source": [
    "Next, we need to instantiate the ``API`` class as:"
   ]
  },
  {
   "cell_type": "code",
   "execution_count": null,
   "metadata": {},
   "outputs": [],
   "source": [
    "df_api = API()"
   ]
  },
  {
   "cell_type": "markdown",
   "metadata": {},
   "source": [
    "# First DataFed function\n",
    "Let's try out the DataFed API by simply asking DataFed for a list of all projects that we are part of using the ``projectList()`` function:"
   ]
  },
  {
   "cell_type": "code",
   "execution_count": null,
   "metadata": {},
   "outputs": [],
   "source": [
    "pl_resp = df_api.projectList()\n",
    "print(pl_resp)"
   ]
  },
  {
   "cell_type": "markdown",
   "metadata": {},
   "source": [
    "### <span style=\"color:blue\"> Jupyter Tip: </span>\n",
    "> <span style=\"color:blue\"> With the cursor just past the starting parenthesis of ``projectList(``, simultaneously press the ``Shift`` and ``Tab`` keys once, twice, or four times to view more of the documentation about the function. </span>\n",
    "\n",
    "## DataFed Messages\n",
    "\n",
    "DataFed responds using ``Google Protocol Buffer`` or ``protobuf`` messages\n",
    "\n",
    "Let's take a closer look at this response:"
   ]
  },
  {
   "cell_type": "code",
   "execution_count": null,
   "metadata": {},
   "outputs": [],
   "source": [
    "print(type(pl_resp), len(pl_resp))"
   ]
  },
  {
   "cell_type": "markdown",
   "metadata": {},
   "source": [
    "As you can see, the reply is a tuple containing two objects, namely the protobuf message reply itself, `[0]` and the type of reply received, `ListingReply` at `[1]`. We can confirm this by checking the response type:"
   ]
  },
  {
   "cell_type": "code",
   "execution_count": null,
   "metadata": {},
   "outputs": [],
   "source": [
    "type(pl_resp[0])"
   ]
  },
  {
   "cell_type": "markdown",
   "metadata": {},
   "source": [
    "# Contexts\n",
    "DataFed allows us to work within multiple different \"data spaces\" – such as our own ``Personal Data``, and those of our ``Project``s. Let's find out what ``context`` DataFed automatically put us into using ``getContext()``:"
   ]
  },
  {
   "cell_type": "code",
   "execution_count": null,
   "metadata": {},
   "outputs": [],
   "source": [
    "print(df_api.getContext())"
   ]
  },
  {
   "cell_type": "markdown",
   "metadata": {},
   "source": [
    "By default, DataFed sets our working space or ``context`` to our own ``Personal Data`` (`u/username`). \n",
    "\n",
    "### Specifying contexts:\n",
    "If we want to take a look at the ``root`` collection of the Training Project, we need to specify that using the `context` keyword argument:"
   ]
  },
  {
   "cell_type": "code",
   "execution_count": null,
   "metadata": {},
   "outputs": [],
   "source": [
    "print(df_api.collectionView(\"root\", context=\"p/trn001\"))"
   ]
  },
  {
   "cell_type": "markdown",
   "metadata": {},
   "source": [
    "Here's what we get when we give the same `collectionView` request without the project context:"
   ]
  },
  {
   "cell_type": "code",
   "execution_count": null,
   "metadata": {},
   "outputs": [],
   "source": [
    "print(df_api.collectionView(\"root\"))"
   ]
  },
  {
   "cell_type": "markdown",
   "metadata": {},
   "source": [
    "# Subscripting and Iterating messages\n",
    "Let us take a look at the contents of the Project (its ``root`` Collection) using ``collectionItemsList()``"
   ]
  },
  {
   "cell_type": "code",
   "execution_count": null,
   "metadata": {},
   "outputs": [],
   "source": [
    "ls_resp = df_api.collectionItemsList(\"root\", context=\"p/trn001\")\n",
    "print(ls_resp)"
   ]
  },
  {
   "cell_type": "markdown",
   "metadata": {},
   "source": [
    "Much like the ``projectList()``, we get a ``ListingReply`` in this case as well\n",
    "\n",
    "### Subscripting\n",
    "The listing reply `item` behaves similarly to a python list in terms of subscriptability. For example, in order to access the title of the last item in the collection listing, we can use indexing:"
   ]
  },
  {
   "cell_type": "code",
   "execution_count": null,
   "metadata": {},
   "outputs": [],
   "source": [
    "ls_resp[0].item[-1].title"
   ]
  },
  {
   "cell_type": "markdown",
   "metadata": {},
   "source": [
    "### Iterating\n",
    "These messages also mirror python lists in their iterability. We can iterate through the items in this listing and use the subscripting capability to only extract the ``id`` and ``alias`` fields of each of the collections"
   ]
  },
  {
   "cell_type": "code",
   "execution_count": null,
   "metadata": {},
   "outputs": [],
   "source": [
    "for record in ls_resp[0].item:\n",
    "    print(record.id, \"\\t\", record.alias)"
   ]
  },
  {
   "cell_type": "markdown",
   "metadata": {},
   "source": [
    "# Aliases and IDs\n",
    "\n",
    "Let's try taking a closer look at the ``PROJSHARE`` collection using its ``alias``:"
   ]
  },
  {
   "cell_type": "code",
   "execution_count": null,
   "metadata": {},
   "outputs": [],
   "source": [
    "df_api.collectionView(\"projshare\")"
   ]
  },
  {
   "cell_type": "markdown",
   "metadata": {},
   "source": [
    "The above request failed because we asked DataFed to look for a Collection with alias: ``projshare`` without specifying the ``context``. Naturally, DataFed assumed that we meant our own ``Personal Data`` rather than the training ``Project``. \n",
    "\n",
    "If we want to address an item by its ``alias``, we need to be careful about its ``context`` since:\n",
    "\n",
    "**An ``alias`` is unique only within a given ``context``** such as ``Personal Data`` or a ``Project``\n",
    "\n",
    "### <span style=\"color:green\"> Exercise: </span>\n",
    "<span style=\"color:green\"> Correct the above function call to view ``projshare`` collection: </span>"
   ]
  },
  {
   "cell_type": "code",
   "execution_count": null,
   "metadata": {},
   "outputs": [],
   "source": []
  },
  {
   "cell_type": "markdown",
   "metadata": {},
   "source": [
    "Alternatively, we can view the correct collection by referring to it using its ``id``:"
   ]
  },
  {
   "cell_type": "code",
   "execution_count": null,
   "metadata": {},
   "outputs": [],
   "source": [
    "df_api.collectionView(\"c/34559108\")"
   ]
  },
  {
   "cell_type": "markdown",
   "metadata": {},
   "source": [
    "The above command worked even though we did not specify a ``context`` because:\n",
    "\n",
    "**``ID``s are unique across DataFed and do not need a ``context``**<br><br><br>\n",
    "\n",
    "## Setting Context:\n",
    "Having to specify the context for every function call can be tiring if we are sure we are working within a single context. \n",
    "\n",
    "We can set the context via the ``setContext()`` function:"
   ]
  },
  {
   "cell_type": "code",
   "execution_count": null,
   "metadata": {},
   "outputs": [],
   "source": [
    "df_api.setContext(\"p/trn001\")"
   ]
  },
  {
   "cell_type": "markdown",
   "metadata": {},
   "source": [
    "### <span style=\"color:blue\"> Note </span>\n",
    "> <span style=\"color:blue\"> ``setContext()`` is valid within the scope of a single python session. You would need to call the function each time you instantiate the DataFed ``CommandLib.API`` class. E.g. - at the top of every notebook </span>"
   ]
  },
  {
   "cell_type": "markdown",
   "metadata": {},
   "source": [
    "Let's attempt to view the ``projshare`` Collection via its ``alias`` **without** specifying the ``context`` keyword argument:"
   ]
  },
  {
   "cell_type": "code",
   "execution_count": null,
   "metadata": {},
   "outputs": [],
   "source": [
    "df_api.collectionView(\"projshare\")"
   ]
  },
  {
   "cell_type": "markdown",
   "metadata": {},
   "source": [
    "### <span style=\"color:green\"> Exercise: </span>\n",
    "<span style=\"color:green\"> Using the DataFed API's `collectionView()`, extract the create time (`ct`) of your own personal collection within the training project or ``projshare``. <br><br> <b> Bonus: </b> Consider using the built-in `df_api.timestampToStr()` function or `datetime.datetime.fromtimestamp` from the `datetime` package to convert the unix formatted time to a human readable string </span>"
   ]
  },
  {
   "cell_type": "code",
   "execution_count": null,
   "metadata": {},
   "outputs": [],
   "source": [
    "create_time = "
   ]
  }
 ],
 "metadata": {
  "anaconda-cloud": {},
  "kernelspec": {
   "display_name": "Python [default]",
   "language": "python",
   "name": "python3"
  },
  "language_info": {
   "codemirror_mode": {
    "name": "ipython",
    "version": 3
   },
   "file_extension": ".py",
   "mimetype": "text/x-python",
   "name": "python",
   "nbconvert_exporter": "python",
   "pygments_lexer": "ipython3",
   "version": "3.5.5"
  }
 },
 "nbformat": 4,
 "nbformat_minor": 4
}
